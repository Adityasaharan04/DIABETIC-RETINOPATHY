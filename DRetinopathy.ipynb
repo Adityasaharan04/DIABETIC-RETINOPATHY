{
  "nbformat": 4,
  "nbformat_minor": 0,
  "metadata": {
    "colab": {
      "provenance": [],
      "mount_file_id": "1jWPWvlw0vmr5cQgMxu3UVWvCXtFZ0hLS",
      "authorship_tag": "ABX9TyNmnKVxS9xeZaHSu7HBZoyE",
      "include_colab_link": true
    },
    "kernelspec": {
      "name": "python3",
      "display_name": "Python 3"
    },
    "language_info": {
      "name": "python"
    }
  },
  "cells": [
    {
      "cell_type": "markdown",
      "metadata": {
        "id": "view-in-github",
        "colab_type": "text"
      },
      "source": [
        "<a href=\"https://colab.research.google.com/github/Adityasaharan04/DIABETIC-RETINOPATHY/blob/main/DRetinopathy.ipynb\" target=\"_parent\"><img src=\"https://colab.research.google.com/assets/colab-badge.svg\" alt=\"Open In Colab\"/></a>"
      ]
    },
    {
      "cell_type": "code",
      "execution_count": 1,
      "metadata": {
        "colab": {
          "base_uri": "https://localhost:8080/"
        },
        "id": "n7djPOagSuIV",
        "outputId": "b9f7da6a-e355-4f7e-9030-556a793de9ee"
      },
      "outputs": [
        {
          "output_type": "stream",
          "name": "stdout",
          "text": [
            "Mounted at /content/drive\n"
          ]
        }
      ],
      "source": [
        "from google.colab import drive\n",
        "drive.mount('/content/drive')\n"
      ]
    },
    {
      "cell_type": "code",
      "source": [
        "import os\n",
        "\n",
        "# Define the directory path where your images are stored\n",
        "data_dir = '/content/drive/MyDrive/gaussian_filtered_images'\n",
        "\n",
        "# List all image files in the directory\n",
        "image_files = [os.path.join(data_dir, file) for file in os.listdir(data_dir) if file.endswith('.png')]\n"
      ],
      "metadata": {
        "id": "4aXzAYFmzgcJ"
      },
      "execution_count": 2,
      "outputs": []
    },
    {
      "cell_type": "code",
      "source": [
        "from PIL import Image, ImageFilter\n",
        "\n",
        "def denoise_image(image_path):\n",
        "    img = Image.open(image_path)\n",
        "    blurred_img = img.filter(ImageFilter.GaussianBlur(radius=1))\n",
        "    # You can add more denoising techniques here if needed\n",
        "    return blurred_img\n",
        "\n",
        "# Apply denoising to each image in the dataset\n",
        "denoised_images = [denoise_image(image_path) for image_path in image_files]\n"
      ],
      "metadata": {
        "id": "FbbtvGIIzom4"
      },
      "execution_count": 3,
      "outputs": []
    },
    {
      "cell_type": "code",
      "source": [
        "from PIL import Image, ImageFilter\n",
        "from skimage.metrics import structural_similarity as compare_ssim\n",
        "import numpy as np\n",
        "\n",
        "def denoise_image(image_path):\n",
        "    img = Image.open(image_path)\n",
        "    blurred_img = img.filter(ImageFilter.GaussianBlur(radius=1))\n",
        "    # You can add more denoising techniques here if needed\n",
        "    return blurred_img\n",
        "\n",
        "def calculate_metrics(original_image, denoised_image):\n",
        "    # Convert images to numpy arrays\n",
        "    original_array = np.array(original_image)\n",
        "    denoised_array = np.array(denoised_image)\n",
        "\n",
        "    # Calculate MSE\n",
        "    mse = np.mean((original_array - denoised_array) ** 2)\n",
        "\n",
        "    # Calculate PSNR\n",
        "    max_pixel_value = 255.0\n",
        "    psnr = 20 * np.log10(max_pixel_value / np.sqrt(mse))\n",
        "\n",
        "    # Calculate SSIM\n",
        "    ssim = compare_ssim(original_array, denoised_array, multichannel=True)\n",
        "\n",
        "    return psnr, mse, ssim\n"
      ],
      "metadata": {
        "id": "NaSBwGxRzwDb"
      },
      "execution_count": 4,
      "outputs": []
    },
    {
      "cell_type": "code",
      "source": [
        "# Apply denoising to each image in the dataset and calculate metrics\n",
        "psnr_list = []\n",
        "mse_list = []\n",
        "ssim_list = []\n",
        "\n",
        "for image_path in image_files:\n",
        "    original_image = Image.open(image_path)\n",
        "    denoised_image = denoise_image(image_path)\n",
        "\n",
        "    # Calculate metrics\n",
        "    psnr, mse, ssim = calculate_metrics(original_image, denoised_image)\n",
        "    psnr_list.append(psnr)\n",
        "    mse_list.append(mse)\n",
        "    ssim_list.append(ssim)\n",
        "\n",
        "# Calculate average metrics\n",
        "average_psnr = np.mean(psnr_list)\n",
        "average_mse = np.mean(mse_list)\n",
        "average_ssim = np.mean(ssim_list)\n",
        "\n",
        "print(f'Average PSNR: {average_psnr}')\n",
        "print(f'Average MSE: {average_mse}')\n",
        "print(f'Average SSIM: {average_ssim}')\n"
      ],
      "metadata": {
        "colab": {
          "base_uri": "https://localhost:8080/"
        },
        "id": "FN-Xpl6t0Eyi",
        "outputId": "06112911-d8fc-4091-e802-43d2ec719269"
      },
      "execution_count": 11,
      "outputs": [
        {
          "output_type": "stream",
          "name": "stdout",
          "text": [
            "Average PSNR: 32.248704562783864\n",
            "Average MSE: 38.74448607568027\n",
            "Average SSIM: 0.6845147555437352\n"
          ]
        },
        {
          "output_type": "stream",
          "name": "stderr",
          "text": [
            "<ipython-input-4-ead4709c9081>:24: FutureWarning: `multichannel` is a deprecated argument name for `structural_similarity`. It will be removed in version 1.0. Please use `channel_axis` instead.\n",
            "  ssim = compare_ssim(original_array, denoised_array, multichannel=True)\n"
          ]
        }
      ]
    },
    {
      "cell_type": "code",
      "source": [
        "!pip install scikit-image\n"
      ],
      "metadata": {
        "colab": {
          "base_uri": "https://localhost:8080/"
        },
        "id": "5ZSCTFGq0E6G",
        "outputId": "31f3f95a-c277-458c-9449-50a3882c8c4d"
      },
      "execution_count": 6,
      "outputs": [
        {
          "output_type": "stream",
          "name": "stdout",
          "text": [
            "Requirement already satisfied: scikit-image in /usr/local/lib/python3.10/dist-packages (0.19.3)\n",
            "Requirement already satisfied: numpy>=1.17.0 in /usr/local/lib/python3.10/dist-packages (from scikit-image) (1.25.2)\n",
            "Requirement already satisfied: scipy>=1.4.1 in /usr/local/lib/python3.10/dist-packages (from scikit-image) (1.11.4)\n",
            "Requirement already satisfied: networkx>=2.2 in /usr/local/lib/python3.10/dist-packages (from scikit-image) (3.2.1)\n",
            "Requirement already satisfied: pillow!=7.1.0,!=7.1.1,!=8.3.0,>=6.1.0 in /usr/local/lib/python3.10/dist-packages (from scikit-image) (9.4.0)\n",
            "Requirement already satisfied: imageio>=2.4.1 in /usr/local/lib/python3.10/dist-packages (from scikit-image) (2.31.6)\n",
            "Requirement already satisfied: tifffile>=2019.7.26 in /usr/local/lib/python3.10/dist-packages (from scikit-image) (2024.2.12)\n",
            "Requirement already satisfied: PyWavelets>=1.1.1 in /usr/local/lib/python3.10/dist-packages (from scikit-image) (1.5.0)\n",
            "Requirement already satisfied: packaging>=20.0 in /usr/local/lib/python3.10/dist-packages (from scikit-image) (23.2)\n"
          ]
        }
      ]
    },
    {
      "cell_type": "code",
      "source": [
        "from skimage.filters import frangi\n",
        "\n",
        "def enhance_blood_vessels(image_path):\n",
        "    img = Image.open(image_path)\n",
        "    # Convert image to grayscale\n",
        "    img_gray = img.convert('L')\n",
        "    # Apply Frangi filter\n",
        "    frangi_img = frangi(np.array(img_gray))\n",
        "    # Convert filtered image back to PIL image\n",
        "    enhanced_image = Image.fromarray((frangi_img * 255).astype(np.uint8))\n",
        "    return enhanced_image\n"
      ],
      "metadata": {
        "id": "qLcEjTxO0quO"
      },
      "execution_count": 7,
      "outputs": []
    },
    {
      "cell_type": "code",
      "source": [
        "from PIL import Image\n",
        "import numpy as np\n",
        "import os\n",
        "from skimage.filters import frangi\n",
        "from skimage.metrics import structural_similarity as compare_ssim\n",
        "\n",
        "# Define the directory path where your images are stored\n",
        "data_dir = '/content/drive/MyDrive/gaussian_filtered_images'\n",
        "\n",
        "# List all image files in the directory\n",
        "image_files = [os.path.join(data_dir, file) for file in os.listdir(data_dir) if file.endswith('.png')]\n",
        "\n",
        "# Define function to enhance blood vessels using Frangi filter\n",
        "def enhance_blood_vessels(image_path):\n",
        "    img = Image.open(image_path)\n",
        "    # Convert image to grayscale\n",
        "    img_gray = img.convert('L')\n",
        "    # Apply Frangi filter\n",
        "    frangi_img = frangi(np.array(img_gray))\n",
        "    # Convert filtered image back to RGB format\n",
        "    enhanced_image = Image.fromarray((frangi_img[..., np.newaxis] * np.ones(3)).astype(np.uint8))\n",
        "    return enhanced_image\n",
        "\n",
        "# Apply blood vessel enhancement to each image in the dataset and calculate metrics\n",
        "psnr_list = []\n",
        "mse_list = []\n",
        "ssim_list = []\n",
        "\n",
        "for image_path in image_files:\n",
        "    original_image = Image.open(image_path)\n",
        "    enhanced_image = enhance_blood_vessels(image_path)\n",
        "\n",
        "    # Convert images to numpy arrays\n",
        "    original_array = np.array(original_image)\n",
        "    enhanced_array = np.array(enhanced_image)\n",
        "\n",
        "    # Calculate metrics\n",
        "    mse = np.mean((original_array - enhanced_array) ** 2)\n",
        "    psnr = 20 * np.log10(255.0 / np.sqrt(mse))\n",
        "    ssim = compare_ssim(original_array, enhanced_array, multichannel=True)\n",
        "\n",
        "    psnr_list.append(psnr)\n",
        "    mse_list.append(mse)\n",
        "    ssim_list.append(ssim)\n",
        "\n",
        "# Calculate average metrics\n",
        "average_psnr = np.mean(psnr_list)\n",
        "average_mse = np.mean(mse_list)\n",
        "average_ssim = np.mean(ssim_list)\n",
        "\n",
        "print(f'Average PSNR: {average_psnr}')\n",
        "print(f'Average MSE: {average_mse}')\n",
        "print(f'Average SSIM: {average_ssim}')\n"
      ],
      "metadata": {
        "colab": {
          "base_uri": "https://localhost:8080/"
        },
        "id": "fE-hWmBO1SfO",
        "outputId": "f0427004-43de-4efb-b367-dcf39eefb75f"
      },
      "execution_count": 14,
      "outputs": [
        {
          "output_type": "stream",
          "name": "stdout",
          "text": [
            "Average PSNR: 30.18811343749252\n",
            "Average MSE: 62.268587903911566\n",
            "Average SSIM: 0.0001662334802884531\n"
          ]
        },
        {
          "output_type": "stream",
          "name": "stderr",
          "text": [
            "<ipython-input-14-d94a5f35acce>:40: FutureWarning: `multichannel` is a deprecated argument name for `structural_similarity`. It will be removed in version 1.0. Please use `channel_axis` instead.\n",
            "  ssim = compare_ssim(original_array, enhanced_array, multichannel=True)\n"
          ]
        }
      ]
    },
    {
      "cell_type": "code",
      "source": [
        "# Define the directory path to save processed images\n",
        "output_dir = '/content/drive/MyDrive/processed_images'\n"
      ],
      "metadata": {
        "id": "z8-iTeaO2Ea8"
      },
      "execution_count": 15,
      "outputs": []
    },
    {
      "cell_type": "code",
      "source": [
        "# Create the output directory if it doesn't exist\n",
        "os.makedirs(output_dir, exist_ok=True)\n"
      ],
      "metadata": {
        "id": "GHJrca3k2HUG"
      },
      "execution_count": 16,
      "outputs": []
    },
    {
      "cell_type": "code",
      "source": [
        "# Save processed images\n",
        "for i, enhanced_image in enumerate(enhanced_images):\n",
        "    output_path = os.path.join(output_dir, f'processed_image_{i}.png')\n",
        "    enhanced_image.save(output_path)\n"
      ],
      "metadata": {
        "id": "tLk9WyY52HMW"
      },
      "execution_count": 17,
      "outputs": []
    },
    {
      "cell_type": "code",
      "source": [
        "import os\n",
        "from PIL import Image\n",
        "import numpy as np\n",
        "from skimage.filters import frangi\n",
        "\n",
        "# Define the directory path where your images are stored\n",
        "data_dir = '/content/drive/MyDrive/gaussian_filtered_images'\n",
        "\n",
        "# Define the directory path to save processed images\n",
        "output_dir = '/content/drive/MyDrive/processed_images'\n",
        "\n",
        "# List all image files in the directory\n",
        "image_files = [os.path.join(data_dir, file) for file in os.listdir(data_dir) if file.endswith('.png')]\n",
        "\n",
        "# Create the output directory if it doesn't exist\n",
        "os.makedirs(output_dir, exist_ok=True)\n",
        "\n",
        "# Define function to enhance blood vessels using Frangi filter\n",
        "def enhance_blood_vessels(image_path):\n",
        "    img = Image.open(image_path)\n",
        "    # Convert image to grayscale\n",
        "    img_gray = img.convert('L')\n",
        "    # Apply Frangi filter\n",
        "    frangi_img = frangi(np.array(img_gray))\n",
        "    # Convert filtered image back to RGB format\n",
        "    enhanced_image = Image.fromarray((frangi_img[..., np.newaxis] * np.ones(3)).astype(np.uint8))\n",
        "    return enhanced_image\n",
        "\n",
        "# Apply blood vessel enhancement to each image in the dataset and save processed images\n",
        "for i, image_path in enumerate(image_files):\n",
        "    original_image = Image.open(image_path)\n",
        "    enhanced_image = enhance_blood_vessels(image_path)\n",
        "    output_path = os.path.join(output_dir, f'processed_image_{i}.png')\n",
        "    enhanced_image.save(output_path)\n",
        "\n",
        "print(f'{len(image_files)} images processed and saved to {output_dir}.')\n"
      ],
      "metadata": {
        "colab": {
          "base_uri": "https://localhost:8080/"
        },
        "id": "2awSDQK22Pds",
        "outputId": "e3b982d7-303d-4075-bb73-3466c8947891"
      },
      "execution_count": 18,
      "outputs": [
        {
          "output_type": "stream",
          "name": "stdout",
          "text": [
            "1 images processed and saved to /content/drive/MyDrive/processed_images.\n"
          ]
        }
      ]
    },
    {
      "cell_type": "code",
      "source": [
        "# Apply blood vessel enhancement to each image in the dataset and save processed images\n",
        "for i, image_path in enumerate(image_files):\n",
        "    original_image = Image.open(image_path)\n",
        "    enhanced_image = enhance_blood_vessels(image_path)\n",
        "\n",
        "    # Debugging: Print some information about the processed image\n",
        "    print(f'Processed image shape: {np.array(enhanced_image).shape}')\n",
        "    print(f'Processed image min pixel value: {np.min(np.array(enhanced_image))}')\n",
        "    print(f'Processed image max pixel value: {np.max(np.array(enhanced_image))}')\n",
        "\n",
        "    output_path = os.path.join(output_dir, f'processed_image_{i}.png')\n",
        "    enhanced_image.save(output_path)\n",
        "\n",
        "print(f'{len(image_files)} images processed and saved to {output_dir}.')\n"
      ],
      "metadata": {
        "colab": {
          "base_uri": "https://localhost:8080/"
        },
        "id": "iuc4XMXO2tAm",
        "outputId": "b5959848-15ba-4662-db18-8a40e0823b99"
      },
      "execution_count": 19,
      "outputs": [
        {
          "output_type": "stream",
          "name": "stdout",
          "text": [
            "Processed image shape: (224, 224, 3)\n",
            "Processed image min pixel value: 0\n",
            "Processed image max pixel value: 0\n",
            "1 images processed and saved to /content/drive/MyDrive/processed_images.\n"
          ]
        }
      ]
    },
    {
      "cell_type": "code",
      "source": [
        "import os\n",
        "import numpy as np\n",
        "import cv2\n",
        "from skimage.filters import frangi\n",
        "\n",
        "# Define the directory path where your images are stored\n",
        "data_dir = '/content/drive/MyDrive/gaussian_filtered_images'\n",
        "\n",
        "# Define the directory path to save processed images\n",
        "output_dir = '/content/drive/MyDrive/processed_images'\n",
        "\n",
        "# List all image files in the directory\n",
        "image_files = [os.path.join(data_dir, file) for file in os.listdir(data_dir) if file.endswith('.png')]\n",
        "\n",
        "# Create the output directory if it doesn't exist\n",
        "os.makedirs(output_dir, exist_ok=True)\n",
        "\n",
        "# Define function to enhance blood vessels using Frangi filter\n",
        "def enhance_blood_vessels(image_path):\n",
        "    img = cv2.imread(image_path, cv2.IMREAD_GRAYSCALE)\n",
        "    # Apply Frangi filter\n",
        "    frangi_img = frangi(img)\n",
        "    return frangi_img\n",
        "\n",
        "# Apply blood vessel enhancement to each image in the dataset and save processed images\n",
        "for i, image_path in enumerate(image_files):\n",
        "    enhanced_image = enhance_blood_vessels(image_path)\n",
        "    output_path = os.path.join(output_dir, f'processed_image_{i}.png')\n",
        "    cv2.imwrite(output_path, enhanced_image)\n",
        "\n",
        "print(f'{len(image_files)} images processed and saved to {output_dir}.')\n"
      ],
      "metadata": {
        "colab": {
          "base_uri": "https://localhost:8080/"
        },
        "id": "ksMyeXKJ2s9j",
        "outputId": "38a9e88e-3aea-4e12-e6c5-ae4d067dbed5"
      },
      "execution_count": 20,
      "outputs": [
        {
          "output_type": "stream",
          "name": "stdout",
          "text": [
            "1 images processed and saved to /content/drive/MyDrive/processed_images.\n"
          ]
        }
      ]
    },
    {
      "cell_type": "code",
      "source": [
        "import os\n",
        "from PIL import Image\n",
        "import numpy as np\n",
        "from skimage.filters import frangi\n",
        "\n",
        "# Define the directory path where your images are stored\n",
        "data_dir = '/content/drive/MyDrive/gaussian_filtered_images'\n",
        "\n",
        "# Define the directory path to save processed images\n",
        "output_dir = '/content/drive/MyDrive/processed_images'\n",
        "\n",
        "# List all image files in the directory\n",
        "image_files = [os.path.join(data_dir, file) for file in os.listdir(data_dir) if file.endswith('.png')]\n",
        "\n",
        "# Create the output directory if it doesn't exist\n",
        "os.makedirs(output_dir, exist_ok=True)\n",
        "\n",
        "# Define function to enhance blood vessels using Frangi filter\n",
        "def enhance_blood_vessels(image_path):\n",
        "    img = Image.open(image_path)\n",
        "    # Convert image to grayscale\n",
        "    img_gray = img.convert('L')\n",
        "    # Apply Frangi filter\n",
        "    frangi_img = frangi(np.array(img_gray))\n",
        "    # Convert filtered image back to RGB format\n",
        "    enhanced_image = Image.fromarray((frangi_img[..., np.newaxis] * np.ones(3)).astype(np.uint8))\n",
        "    return enhanced_image\n",
        "\n",
        "# Apply blood vessel enhancement to each image in the dataset and save processed images\n",
        "for i, image_path in enumerate(image_files):\n",
        "    try:\n",
        "        original_image = Image.open(image_path)\n",
        "        enhanced_image = enhance_blood_vessels(image_path)\n",
        "        output_path = os.path.join(output_dir, f'processed_image_{i}.png')\n",
        "        enhanced_image.save(output_path)\n",
        "        print(f'Processed image saved: {output_path}')\n",
        "    except Exception as e:\n",
        "        print(f'Error processing image: {image_path}')\n",
        "        print(e)\n",
        "\n",
        "print(f'{len(image_files)} images processed and saved to {output_dir}.')\n"
      ],
      "metadata": {
        "colab": {
          "base_uri": "https://localhost:8080/"
        },
        "id": "2d4xZthX3guH",
        "outputId": "ed2e0077-6d22-4ad2-ddde-5caf0115511c"
      },
      "execution_count": 21,
      "outputs": [
        {
          "output_type": "stream",
          "name": "stdout",
          "text": [
            "Processed image saved: /content/drive/MyDrive/processed_images/processed_image_0.png\n",
            "1 images processed and saved to /content/drive/MyDrive/processed_images.\n"
          ]
        }
      ]
    },
    {
      "cell_type": "code",
      "source": [
        "import os\n",
        "import cv2\n",
        "import numpy as np\n",
        "from skimage.filters import frangi\n",
        "\n",
        "# Define the directory path where your images are stored\n",
        "data_dir = '/content/drive/MyDrive/gaussian_filtered_images'\n",
        "\n",
        "# Define the directory path to save processed images\n",
        "output_dir = '/content/drive/MyDrive/processed_images'\n",
        "\n",
        "# List all image files in the directory\n",
        "image_files = [os.path.join(data_dir, file) for file in os.listdir(data_dir) if file.endswith('.png')]\n",
        "\n",
        "# Create the output directory if it doesn't exist\n",
        "os.makedirs(output_dir, exist_ok=True)\n",
        "\n",
        "# Define function to enhance blood vessels using Frangi filter\n",
        "def enhance_blood_vessels(image_path):\n",
        "    img = cv2.imread(image_path, cv2.IMREAD_GRAYSCALE)\n",
        "    # Apply Frangi filter\n",
        "    frangi_img = frangi(img)\n",
        "    return frangi_img\n",
        "\n",
        "# Apply blood vessel enhancement to each image in the dataset and save processed images\n",
        "for i, image_path in enumerate(image_files):\n",
        "    try:\n",
        "        enhanced_image = enhance_blood_vessels(image_path)\n",
        "        output_path = os.path.join(output_dir, f'processed_image_{i}.png')\n",
        "        cv2.imwrite(output_path, enhanced_image)\n",
        "        print(f'Processed image saved: {output_path}')\n",
        "    except Exception as e:\n",
        "        print(f'Error processing image: {image_path}')\n",
        "        print(e)\n",
        "\n",
        "print(f'{len(image_files)} images processed and saved to {output_dir}.')\n"
      ],
      "metadata": {
        "colab": {
          "base_uri": "https://localhost:8080/"
        },
        "id": "SKPaudoe37QR",
        "outputId": "be470763-841d-40d5-af42-63801fc4599d"
      },
      "execution_count": 22,
      "outputs": [
        {
          "output_type": "stream",
          "name": "stdout",
          "text": [
            "Processed image saved: /content/drive/MyDrive/processed_images/processed_image_0.png\n",
            "1 images processed and saved to /content/drive/MyDrive/processed_images.\n"
          ]
        }
      ]
    },
    {
      "cell_type": "code",
      "source": [
        "!pip install --upgrade scikit-image\n"
      ],
      "metadata": {
        "colab": {
          "base_uri": "https://localhost:8080/"
        },
        "id": "K1l8kjjZ4PXM",
        "outputId": "87ec19b0-674f-48a5-9cea-9f26d0849c33"
      },
      "execution_count": 24,
      "outputs": [
        {
          "output_type": "stream",
          "name": "stdout",
          "text": [
            "Requirement already satisfied: scikit-image in /usr/local/lib/python3.10/dist-packages (0.19.3)\n",
            "Collecting scikit-image\n",
            "  Downloading scikit_image-0.22.0-cp310-cp310-manylinux_2_17_x86_64.manylinux2014_x86_64.whl (14.7 MB)\n",
            "\u001b[2K     \u001b[90m━━━━━━━━━━━━━━━━━━━━━━━━━━━━━━━━━━━━━━━━\u001b[0m \u001b[32m14.7/14.7 MB\u001b[0m \u001b[31m72.8 MB/s\u001b[0m eta \u001b[36m0:00:00\u001b[0m\n",
            "\u001b[?25hRequirement already satisfied: numpy>=1.22 in /usr/local/lib/python3.10/dist-packages (from scikit-image) (1.25.2)\n",
            "Requirement already satisfied: scipy>=1.8 in /usr/local/lib/python3.10/dist-packages (from scikit-image) (1.11.4)\n",
            "Requirement already satisfied: networkx>=2.8 in /usr/local/lib/python3.10/dist-packages (from scikit-image) (3.2.1)\n",
            "Requirement already satisfied: pillow>=9.0.1 in /usr/local/lib/python3.10/dist-packages (from scikit-image) (9.4.0)\n",
            "Requirement already satisfied: imageio>=2.27 in /usr/local/lib/python3.10/dist-packages (from scikit-image) (2.31.6)\n",
            "Requirement already satisfied: tifffile>=2022.8.12 in /usr/local/lib/python3.10/dist-packages (from scikit-image) (2024.2.12)\n",
            "Requirement already satisfied: packaging>=21 in /usr/local/lib/python3.10/dist-packages (from scikit-image) (23.2)\n",
            "Requirement already satisfied: lazy_loader>=0.3 in /usr/local/lib/python3.10/dist-packages (from scikit-image) (0.3)\n",
            "Installing collected packages: scikit-image\n",
            "  Attempting uninstall: scikit-image\n",
            "    Found existing installation: scikit-image 0.19.3\n",
            "    Uninstalling scikit-image-0.19.3:\n",
            "      Successfully uninstalled scikit-image-0.19.3\n",
            "Successfully installed scikit-image-0.22.0\n"
          ]
        }
      ]
    },
    {
      "cell_type": "code",
      "source": [
        "!pip install medpy\n"
      ],
      "metadata": {
        "colab": {
          "base_uri": "https://localhost:8080/"
        },
        "id": "xlo3H4Zs4cty",
        "outputId": "f177b4a7-bf7b-479a-c807-92f62104f2bd"
      },
      "execution_count": 25,
      "outputs": [
        {
          "output_type": "stream",
          "name": "stdout",
          "text": [
            "Collecting medpy\n",
            "  Downloading MedPy-0.4.0.tar.gz (151 kB)\n",
            "\u001b[?25l     \u001b[90m━━━━━━━━━━━━━━━━━━━━━━━━━━━━━━━━━━━━━━━━\u001b[0m \u001b[32m0.0/151.8 kB\u001b[0m \u001b[31m?\u001b[0m eta \u001b[36m-:--:--\u001b[0m\r\u001b[2K     \u001b[91m━━━━━━━━━━━━━━━━━━━━━━━━━━━━━━━━━━━━━\u001b[0m\u001b[91m╸\u001b[0m\u001b[90m━━\u001b[0m \u001b[32m143.4/151.8 kB\u001b[0m \u001b[31m4.1 MB/s\u001b[0m eta \u001b[36m0:00:01\u001b[0m\r\u001b[2K     \u001b[90m━━━━━━━━━━━━━━━━━━━━━━━━━━━━━━━━━━━━━━━━\u001b[0m \u001b[32m151.8/151.8 kB\u001b[0m \u001b[31m3.3 MB/s\u001b[0m eta \u001b[36m0:00:00\u001b[0m\n",
            "\u001b[?25h  Preparing metadata (setup.py) ... \u001b[?25l\u001b[?25hdone\n",
            "Requirement already satisfied: scipy>=1.1.0 in /usr/local/lib/python3.10/dist-packages (from medpy) (1.11.4)\n",
            "Requirement already satisfied: numpy>=1.11.0 in /usr/local/lib/python3.10/dist-packages (from medpy) (1.25.2)\n",
            "Collecting SimpleITK>=1.1.0 (from medpy)\n",
            "  Downloading SimpleITK-2.3.1-cp310-cp310-manylinux_2_17_x86_64.manylinux2014_x86_64.whl (52.7 MB)\n",
            "\u001b[2K     \u001b[90m━━━━━━━━━━━━━━━━━━━━━━━━━━━━━━━━━━━━━━━━\u001b[0m \u001b[32m52.7/52.7 MB\u001b[0m \u001b[31m12.2 MB/s\u001b[0m eta \u001b[36m0:00:00\u001b[0m\n",
            "\u001b[?25hBuilding wheels for collected packages: medpy\n",
            "  Building wheel for medpy (setup.py) ... \u001b[?25l\u001b[?25hdone\n",
            "  Created wheel for medpy: filename=MedPy-0.4.0-py3-none-any.whl size=214949 sha256=e97ff4afb87a04066abaff72859437234bf1f04b7df69a79e6e4f4e3bcc4f536\n",
            "  Stored in directory: /root/.cache/pip/wheels/d4/32/c7/6380ab2edb8cca018d39a0f1d43250fd9791922c963117de46\n",
            "Successfully built medpy\n",
            "Installing collected packages: SimpleITK, medpy\n",
            "Successfully installed SimpleITK-2.3.1 medpy-0.4.0\n"
          ]
        }
      ]
    },
    {
      "cell_type": "code",
      "source": [
        "import os\n",
        "import SimpleITK as sitk\n",
        "\n",
        "# Define the directory path where your images are stored\n",
        "data_dir = '/content/drive/MyDrive/gaussian_filtered_images'\n",
        "\n",
        "# Define the directory path to save processed images\n",
        "output_dir = '/content/drive/MyDrive/processed_images'\n",
        "\n",
        "# List all image files in the directory\n",
        "image_files = [os.path.join(data_dir, file) for file in os.listdir(data_dir) if file.endswith('.png')]\n",
        "\n",
        "# Create the output directory if it doesn't exist\n",
        "os.makedirs(output_dir, exist_ok=True)\n",
        "\n",
        "# Define function to enhance blood vessels using SimpleITK Sigmoid filter\n",
        "def enhance_blood_vessels(image_path):\n",
        "    # Read the image\n",
        "    img = sitk.ReadImage(image_path)\n",
        "\n",
        "    # Convert image to grayscale\n",
        "    img_gray = sitk.Cast(sitk.RescaleIntensity(img), sitk.sitkUInt8)\n",
        "\n",
        "    # Apply Sigmoid filter\n",
        "    sigmoid_filter = sitk.SigmoidImageFilter()\n",
        "    sigmoid_filter.SetOutputMaximum(1)\n",
        "    sigmoid_filter.SetOutputMinimum(0)\n",
        "    sigmoid_filter.SetAlpha(-200)\n",
        "    sigmoid_filter.SetBeta(200)\n",
        "    enhanced_image = sigmoid_filter.Execute(img_gray)\n",
        "\n",
        "    return enhanced_image\n",
        "\n",
        "# Apply blood vessel enhancement to each image in the dataset and save processed images\n",
        "for i, image_path in enumerate(image_files):\n",
        "    try:\n",
        "        enhanced_image = enhance_blood_vessels(image_path)\n",
        "        output_path = os.path.join(output_dir, f'processed_image_{i}.png')\n",
        "        sitk.WriteImage(enhanced_image, output_path)\n",
        "        print(f'Processed image saved: {output_path}')\n",
        "    except Exception as e:\n",
        "        print(f'Error processing image: {image_path}')\n",
        "        print(e)\n",
        "\n",
        "print(f'{len(image_files)} images processed and saved to {output_dir}.')\n"
      ],
      "metadata": {
        "colab": {
          "base_uri": "https://localhost:8080/"
        },
        "id": "M9Gjbimw4ft5",
        "outputId": "4c707fc2-c4ca-43e5-c330-da63b09fd8a4"
      },
      "execution_count": 30,
      "outputs": [
        {
          "output_type": "stream",
          "name": "stdout",
          "text": [
            "Error processing image: /content/drive/MyDrive/gaussian_filtered_images/0f96c358a250.png\n",
            "Exception thrown in SimpleITK Cast: /tmp/SimpleITK/Code/BasicFilters/src/sitkCastImageFilter.cxx:95:\n",
            "sitk::ERROR: Filter does not support casting from casting vector of 8-bit unsigned integer to 8-bit unsigned integer\n",
            "1 images processed and saved to /content/drive/MyDrive/processed_images.\n"
          ]
        }
      ]
    }
  ]
}